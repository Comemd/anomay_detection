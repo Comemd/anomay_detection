{
  "nbformat": 4,
  "nbformat_minor": 0,
  "metadata": {
    "colab": {
      "provenance": []
    },
    "kernelspec": {
      "name": "python3",
      "display_name": "Python 3"
    },
    "language_info": {
      "name": "python"
    }
  },
  "cells": [
    {
      "cell_type": "markdown",
      "source": [
        "#Library importing"
      ],
      "metadata": {
        "id": "C0qVdzIXYDfn"
      }
    },
    {
      "cell_type": "code",
      "source": [
        "!pip install sklearn-som"
      ],
      "metadata": {
        "colab": {
          "base_uri": "https://localhost:8080/"
        },
        "id": "JHjupQEwryT1",
        "outputId": "504e11f3-d876-4f30-ffd2-dda249bafe9d"
      },
      "execution_count": null,
      "outputs": [
        {
          "output_type": "stream",
          "name": "stdout",
          "text": [
            "Looking in indexes: https://pypi.org/simple, https://us-python.pkg.dev/colab-wheels/public/simple/\n",
            "Collecting sklearn-som\n",
            "  Downloading sklearn_som-1.1.0-py3-none-any.whl (6.7 kB)\n",
            "Requirement already satisfied: numpy in /usr/local/lib/python3.8/dist-packages (from sklearn-som) (1.21.6)\n",
            "Installing collected packages: sklearn-som\n",
            "Successfully installed sklearn-som-1.1.0\n"
          ]
        }
      ]
    },
    {
      "cell_type": "code",
      "source": [
        "!pip install minisom"
      ],
      "metadata": {
        "colab": {
          "base_uri": "https://localhost:8080/"
        },
        "id": "FvRbhz9jOqsM",
        "outputId": "1f3ec113-971c-4d45-d70b-02a9eac746c2"
      },
      "execution_count": null,
      "outputs": [
        {
          "output_type": "stream",
          "name": "stdout",
          "text": [
            "Looking in indexes: https://pypi.org/simple, https://us-python.pkg.dev/colab-wheels/public/simple/\n",
            "Collecting minisom\n",
            "  Downloading MiniSom-2.3.0.tar.gz (8.8 kB)\n",
            "  Preparing metadata (setup.py) ... \u001b[?25l\u001b[?25hdone\n",
            "Building wheels for collected packages: minisom\n",
            "  Building wheel for minisom (setup.py) ... \u001b[?25l\u001b[?25hdone\n",
            "  Created wheel for minisom: filename=MiniSom-2.3.0-py3-none-any.whl size=9016 sha256=bc15cbc7e645bb1ad22d8a9985abdefa045e12dd8474262df65eed0bfe80da09\n",
            "  Stored in directory: /root/.cache/pip/wheels/6d/4e/9e/a95c14a232a196c22d9c04b221ff5d25461a1a4c55339c61db\n",
            "Successfully built minisom\n",
            "Installing collected packages: minisom\n",
            "Successfully installed minisom-2.3.0\n"
          ]
        }
      ]
    },
    {
      "cell_type": "code",
      "execution_count": null,
      "metadata": {
        "id": "5FJHVj6wXpYc"
      },
      "outputs": [],
      "source": [
        "from google.colab import drive\n",
        "from scipy.io import arff\n",
        "import pandas as pd\n",
        "import numpy as np\n",
        "import matplotlib.pyplot as plt\n",
        "from minisom import MiniSom\n",
        "from sklearn.preprocessing import MinMaxScaler #normalisation\n",
        "from sklearn.model_selection import train_test_split\n",
        "from sklearn.metrics import accuracy_score, classification_report\n",
        "from sklearn_som.som import SOM\n",
        "from matplotlib import animation, colors\n",
        "from pylab import bone, pcolor, colorbar, plot, show"
      ]
    },
    {
      "cell_type": "markdown",
      "source": [
        "## Importing the data"
      ],
      "metadata": {
        "id": "0JRsTALYYLbI"
      }
    },
    {
      "cell_type": "markdown",
      "source": [
        "Defining paths"
      ],
      "metadata": {
        "id": "bddpVb3syays"
      }
    },
    {
      "cell_type": "code",
      "source": [
        "drive.mount('/content/drive')\n",
        "PATH = './drive/MyDrive/Projet_IA/NSL-KDD/'\n",
        "train_file = 'KDDTrain+.txt'\n",
        "test_file = 'KDDTest+.txt'"
      ],
      "metadata": {
        "colab": {
          "base_uri": "https://localhost:8080/"
        },
        "id": "ozqYuApgYNJ1",
        "outputId": "d37933e6-cb7a-49b5-9a7e-16db85e190f2"
      },
      "execution_count": null,
      "outputs": [
        {
          "output_type": "stream",
          "name": "stdout",
          "text": [
            "Mounted at /content/drive\n"
          ]
        }
      ]
    },
    {
      "cell_type": "markdown",
      "source": [
        "Defining the names of the features usinng the metadata"
      ],
      "metadata": {
        "id": "V1kN50f5yc6G"
      }
    },
    {
      "cell_type": "code",
      "source": [
        "names = ['duration','protocol_type','service','flag','src_bytes','dst_bytes','land','wrong_fragment','urgent','hot','num_failed_logins','logged_in','num_compromised', \\\n",
        "         'root_shell','su_attempted','num_root','num_file_creations','num_shells','num_access_files','num_outbound_cmds','is_host_login','is_guest_login','count','srv_count', \\\n",
        "         'serror_rate','srv_serror_rate','rerror_rate','srv_rerror_rate','same_srv_rate','diff_srv_rate','srv_diff_host_rate','dst_host_count','dst_host_srv_count', \\\n",
        "         'dst_host_same_srv_rate','dst_host_diff_srv_rate','dst_host_same_src_port_rate','dst_host_srv_diff_host_rate','dst_host_serror_rate','dst_host_srv_serror_rate', \\\n",
        "         'dst_host_rerror_rate','dst_host_srv_rerror_rate','class','difficulty']\n",
        "\n",
        "print(len(names))"
      ],
      "metadata": {
        "colab": {
          "base_uri": "https://localhost:8080/"
        },
        "id": "z4TXuz1VwIVi",
        "outputId": "c6537119-aece-4d2a-a56b-c37593ed687a"
      },
      "execution_count": null,
      "outputs": [
        {
          "output_type": "stream",
          "name": "stdout",
          "text": [
            "43\n"
          ]
        }
      ]
    },
    {
      "cell_type": "markdown",
      "source": [
        "Reading the training and testing data"
      ],
      "metadata": {
        "id": "A-2IrEKDykZg"
      }
    },
    {
      "cell_type": "code",
      "source": [
        "training_data = pd.read_csv(PATH+train_file,names=names)\n",
        "training_data = training_data.iloc[: , :-1]\n",
        "testing_data = pd.read_csv(PATH+test_file,names=names)\n",
        "testing_data = testing_data.iloc[: , :-1]"
      ],
      "metadata": {
        "id": "Xsl_bgh8YP5G"
      },
      "execution_count": null,
      "outputs": []
    },
    {
      "cell_type": "markdown",
      "source": [
        "Concatenating the two data files, to split them ourself"
      ],
      "metadata": {
        "id": "Fn3mQFkXH6W_"
      }
    },
    {
      "cell_type": "code",
      "source": [
        "data = pd.concat([training_data,testing_data])"
      ],
      "metadata": {
        "id": "aT-cdnOk45m4"
      },
      "execution_count": null,
      "outputs": []
    },
    {
      "cell_type": "markdown",
      "source": [
        "Printing the classes of the data"
      ],
      "metadata": {
        "id": "2RU2cEzxIEnH"
      }
    },
    {
      "cell_type": "code",
      "source": [
        "print(data.iloc[:,-1])"
      ],
      "metadata": {
        "colab": {
          "base_uri": "https://localhost:8080/"
        },
        "id": "aVWnGqeGjjhi",
        "outputId": "ed9d4478-2c08-43f1-9c07-942f32ac6085"
      },
      "execution_count": null,
      "outputs": [
        {
          "output_type": "stream",
          "name": "stdout",
          "text": [
            "0         normal\n",
            "1         normal\n",
            "2        neptune\n",
            "3         normal\n",
            "4         normal\n",
            "          ...   \n",
            "22539     normal\n",
            "22540     normal\n",
            "22541       back\n",
            "22542     normal\n",
            "22543      mscan\n",
            "Name: class, Length: 148517, dtype: object\n"
          ]
        }
      ]
    },
    {
      "cell_type": "markdown",
      "source": [
        "# Data visualization"
      ],
      "metadata": {
        "id": "w_VFoXk0f8Df"
      }
    },
    {
      "cell_type": "code",
      "source": [
        "data.head(5)"
      ],
      "metadata": {
        "colab": {
          "base_uri": "https://localhost:8080/",
          "height": 299
        },
        "id": "HTKFFJQDgH1z",
        "outputId": "2a46b81f-9b29-4985-d3c5-ab860b1a1994"
      },
      "execution_count": null,
      "outputs": [
        {
          "output_type": "execute_result",
          "data": {
            "text/plain": [
              "   duration protocol_type   service flag  src_bytes  dst_bytes  land  \\\n",
              "0         0           tcp  ftp_data   SF        491          0     0   \n",
              "1         0           udp     other   SF        146          0     0   \n",
              "2         0           tcp   private   S0          0          0     0   \n",
              "3         0           tcp      http   SF        232       8153     0   \n",
              "4         0           tcp      http   SF        199        420     0   \n",
              "\n",
              "   wrong_fragment  urgent  hot  ...  dst_host_srv_count  \\\n",
              "0               0       0    0  ...                  25   \n",
              "1               0       0    0  ...                   1   \n",
              "2               0       0    0  ...                  26   \n",
              "3               0       0    0  ...                 255   \n",
              "4               0       0    0  ...                 255   \n",
              "\n",
              "   dst_host_same_srv_rate  dst_host_diff_srv_rate  \\\n",
              "0                    0.17                    0.03   \n",
              "1                    0.00                    0.60   \n",
              "2                    0.10                    0.05   \n",
              "3                    1.00                    0.00   \n",
              "4                    1.00                    0.00   \n",
              "\n",
              "   dst_host_same_src_port_rate  dst_host_srv_diff_host_rate  \\\n",
              "0                         0.17                         0.00   \n",
              "1                         0.88                         0.00   \n",
              "2                         0.00                         0.00   \n",
              "3                         0.03                         0.04   \n",
              "4                         0.00                         0.00   \n",
              "\n",
              "   dst_host_serror_rate  dst_host_srv_serror_rate  dst_host_rerror_rate  \\\n",
              "0                  0.00                      0.00                  0.05   \n",
              "1                  0.00                      0.00                  0.00   \n",
              "2                  1.00                      1.00                  0.00   \n",
              "3                  0.03                      0.01                  0.00   \n",
              "4                  0.00                      0.00                  0.00   \n",
              "\n",
              "   dst_host_srv_rerror_rate    class  \n",
              "0                      0.00   normal  \n",
              "1                      0.00   normal  \n",
              "2                      0.00  neptune  \n",
              "3                      0.01   normal  \n",
              "4                      0.00   normal  \n",
              "\n",
              "[5 rows x 42 columns]"
            ],
            "text/html": [
              "\n",
              "  <div id=\"df-5ba5570d-c373-4cf6-8c5e-207468401ac6\">\n",
              "    <div class=\"colab-df-container\">\n",
              "      <div>\n",
              "<style scoped>\n",
              "    .dataframe tbody tr th:only-of-type {\n",
              "        vertical-align: middle;\n",
              "    }\n",
              "\n",
              "    .dataframe tbody tr th {\n",
              "        vertical-align: top;\n",
              "    }\n",
              "\n",
              "    .dataframe thead th {\n",
              "        text-align: right;\n",
              "    }\n",
              "</style>\n",
              "<table border=\"1\" class=\"dataframe\">\n",
              "  <thead>\n",
              "    <tr style=\"text-align: right;\">\n",
              "      <th></th>\n",
              "      <th>duration</th>\n",
              "      <th>protocol_type</th>\n",
              "      <th>service</th>\n",
              "      <th>flag</th>\n",
              "      <th>src_bytes</th>\n",
              "      <th>dst_bytes</th>\n",
              "      <th>land</th>\n",
              "      <th>wrong_fragment</th>\n",
              "      <th>urgent</th>\n",
              "      <th>hot</th>\n",
              "      <th>...</th>\n",
              "      <th>dst_host_srv_count</th>\n",
              "      <th>dst_host_same_srv_rate</th>\n",
              "      <th>dst_host_diff_srv_rate</th>\n",
              "      <th>dst_host_same_src_port_rate</th>\n",
              "      <th>dst_host_srv_diff_host_rate</th>\n",
              "      <th>dst_host_serror_rate</th>\n",
              "      <th>dst_host_srv_serror_rate</th>\n",
              "      <th>dst_host_rerror_rate</th>\n",
              "      <th>dst_host_srv_rerror_rate</th>\n",
              "      <th>class</th>\n",
              "    </tr>\n",
              "  </thead>\n",
              "  <tbody>\n",
              "    <tr>\n",
              "      <th>0</th>\n",
              "      <td>0</td>\n",
              "      <td>tcp</td>\n",
              "      <td>ftp_data</td>\n",
              "      <td>SF</td>\n",
              "      <td>491</td>\n",
              "      <td>0</td>\n",
              "      <td>0</td>\n",
              "      <td>0</td>\n",
              "      <td>0</td>\n",
              "      <td>0</td>\n",
              "      <td>...</td>\n",
              "      <td>25</td>\n",
              "      <td>0.17</td>\n",
              "      <td>0.03</td>\n",
              "      <td>0.17</td>\n",
              "      <td>0.00</td>\n",
              "      <td>0.00</td>\n",
              "      <td>0.00</td>\n",
              "      <td>0.05</td>\n",
              "      <td>0.00</td>\n",
              "      <td>normal</td>\n",
              "    </tr>\n",
              "    <tr>\n",
              "      <th>1</th>\n",
              "      <td>0</td>\n",
              "      <td>udp</td>\n",
              "      <td>other</td>\n",
              "      <td>SF</td>\n",
              "      <td>146</td>\n",
              "      <td>0</td>\n",
              "      <td>0</td>\n",
              "      <td>0</td>\n",
              "      <td>0</td>\n",
              "      <td>0</td>\n",
              "      <td>...</td>\n",
              "      <td>1</td>\n",
              "      <td>0.00</td>\n",
              "      <td>0.60</td>\n",
              "      <td>0.88</td>\n",
              "      <td>0.00</td>\n",
              "      <td>0.00</td>\n",
              "      <td>0.00</td>\n",
              "      <td>0.00</td>\n",
              "      <td>0.00</td>\n",
              "      <td>normal</td>\n",
              "    </tr>\n",
              "    <tr>\n",
              "      <th>2</th>\n",
              "      <td>0</td>\n",
              "      <td>tcp</td>\n",
              "      <td>private</td>\n",
              "      <td>S0</td>\n",
              "      <td>0</td>\n",
              "      <td>0</td>\n",
              "      <td>0</td>\n",
              "      <td>0</td>\n",
              "      <td>0</td>\n",
              "      <td>0</td>\n",
              "      <td>...</td>\n",
              "      <td>26</td>\n",
              "      <td>0.10</td>\n",
              "      <td>0.05</td>\n",
              "      <td>0.00</td>\n",
              "      <td>0.00</td>\n",
              "      <td>1.00</td>\n",
              "      <td>1.00</td>\n",
              "      <td>0.00</td>\n",
              "      <td>0.00</td>\n",
              "      <td>neptune</td>\n",
              "    </tr>\n",
              "    <tr>\n",
              "      <th>3</th>\n",
              "      <td>0</td>\n",
              "      <td>tcp</td>\n",
              "      <td>http</td>\n",
              "      <td>SF</td>\n",
              "      <td>232</td>\n",
              "      <td>8153</td>\n",
              "      <td>0</td>\n",
              "      <td>0</td>\n",
              "      <td>0</td>\n",
              "      <td>0</td>\n",
              "      <td>...</td>\n",
              "      <td>255</td>\n",
              "      <td>1.00</td>\n",
              "      <td>0.00</td>\n",
              "      <td>0.03</td>\n",
              "      <td>0.04</td>\n",
              "      <td>0.03</td>\n",
              "      <td>0.01</td>\n",
              "      <td>0.00</td>\n",
              "      <td>0.01</td>\n",
              "      <td>normal</td>\n",
              "    </tr>\n",
              "    <tr>\n",
              "      <th>4</th>\n",
              "      <td>0</td>\n",
              "      <td>tcp</td>\n",
              "      <td>http</td>\n",
              "      <td>SF</td>\n",
              "      <td>199</td>\n",
              "      <td>420</td>\n",
              "      <td>0</td>\n",
              "      <td>0</td>\n",
              "      <td>0</td>\n",
              "      <td>0</td>\n",
              "      <td>...</td>\n",
              "      <td>255</td>\n",
              "      <td>1.00</td>\n",
              "      <td>0.00</td>\n",
              "      <td>0.00</td>\n",
              "      <td>0.00</td>\n",
              "      <td>0.00</td>\n",
              "      <td>0.00</td>\n",
              "      <td>0.00</td>\n",
              "      <td>0.00</td>\n",
              "      <td>normal</td>\n",
              "    </tr>\n",
              "  </tbody>\n",
              "</table>\n",
              "<p>5 rows × 42 columns</p>\n",
              "</div>\n",
              "      <button class=\"colab-df-convert\" onclick=\"convertToInteractive('df-5ba5570d-c373-4cf6-8c5e-207468401ac6')\"\n",
              "              title=\"Convert this dataframe to an interactive table.\"\n",
              "              style=\"display:none;\">\n",
              "        \n",
              "  <svg xmlns=\"http://www.w3.org/2000/svg\" height=\"24px\"viewBox=\"0 0 24 24\"\n",
              "       width=\"24px\">\n",
              "    <path d=\"M0 0h24v24H0V0z\" fill=\"none\"/>\n",
              "    <path d=\"M18.56 5.44l.94 2.06.94-2.06 2.06-.94-2.06-.94-.94-2.06-.94 2.06-2.06.94zm-11 1L8.5 8.5l.94-2.06 2.06-.94-2.06-.94L8.5 2.5l-.94 2.06-2.06.94zm10 10l.94 2.06.94-2.06 2.06-.94-2.06-.94-.94-2.06-.94 2.06-2.06.94z\"/><path d=\"M17.41 7.96l-1.37-1.37c-.4-.4-.92-.59-1.43-.59-.52 0-1.04.2-1.43.59L10.3 9.45l-7.72 7.72c-.78.78-.78 2.05 0 2.83L4 21.41c.39.39.9.59 1.41.59.51 0 1.02-.2 1.41-.59l7.78-7.78 2.81-2.81c.8-.78.8-2.07 0-2.86zM5.41 20L4 18.59l7.72-7.72 1.47 1.35L5.41 20z\"/>\n",
              "  </svg>\n",
              "      </button>\n",
              "      \n",
              "  <style>\n",
              "    .colab-df-container {\n",
              "      display:flex;\n",
              "      flex-wrap:wrap;\n",
              "      gap: 12px;\n",
              "    }\n",
              "\n",
              "    .colab-df-convert {\n",
              "      background-color: #E8F0FE;\n",
              "      border: none;\n",
              "      border-radius: 50%;\n",
              "      cursor: pointer;\n",
              "      display: none;\n",
              "      fill: #1967D2;\n",
              "      height: 32px;\n",
              "      padding: 0 0 0 0;\n",
              "      width: 32px;\n",
              "    }\n",
              "\n",
              "    .colab-df-convert:hover {\n",
              "      background-color: #E2EBFA;\n",
              "      box-shadow: 0px 1px 2px rgba(60, 64, 67, 0.3), 0px 1px 3px 1px rgba(60, 64, 67, 0.15);\n",
              "      fill: #174EA6;\n",
              "    }\n",
              "\n",
              "    [theme=dark] .colab-df-convert {\n",
              "      background-color: #3B4455;\n",
              "      fill: #D2E3FC;\n",
              "    }\n",
              "\n",
              "    [theme=dark] .colab-df-convert:hover {\n",
              "      background-color: #434B5C;\n",
              "      box-shadow: 0px 1px 3px 1px rgba(0, 0, 0, 0.15);\n",
              "      filter: drop-shadow(0px 1px 2px rgba(0, 0, 0, 0.3));\n",
              "      fill: #FFFFFF;\n",
              "    }\n",
              "  </style>\n",
              "\n",
              "      <script>\n",
              "        const buttonEl =\n",
              "          document.querySelector('#df-5ba5570d-c373-4cf6-8c5e-207468401ac6 button.colab-df-convert');\n",
              "        buttonEl.style.display =\n",
              "          google.colab.kernel.accessAllowed ? 'block' : 'none';\n",
              "\n",
              "        async function convertToInteractive(key) {\n",
              "          const element = document.querySelector('#df-5ba5570d-c373-4cf6-8c5e-207468401ac6');\n",
              "          const dataTable =\n",
              "            await google.colab.kernel.invokeFunction('convertToInteractive',\n",
              "                                                     [key], {});\n",
              "          if (!dataTable) return;\n",
              "\n",
              "          const docLinkHtml = 'Like what you see? Visit the ' +\n",
              "            '<a target=\"_blank\" href=https://colab.research.google.com/notebooks/data_table.ipynb>data table notebook</a>'\n",
              "            + ' to learn more about interactive tables.';\n",
              "          element.innerHTML = '';\n",
              "          dataTable['output_type'] = 'display_data';\n",
              "          await google.colab.output.renderOutput(dataTable, element);\n",
              "          const docLink = document.createElement('div');\n",
              "          docLink.innerHTML = docLinkHtml;\n",
              "          element.appendChild(docLink);\n",
              "        }\n",
              "      </script>\n",
              "    </div>\n",
              "  </div>\n",
              "  "
            ]
          },
          "metadata": {},
          "execution_count": 9
        }
      ]
    },
    {
      "cell_type": "code",
      "source": [
        "data.dtypes"
      ],
      "metadata": {
        "colab": {
          "base_uri": "https://localhost:8080/"
        },
        "id": "CRY6CY68Rk6b",
        "outputId": "6cb4f496-c581-45b6-a43e-f0fbfda3145c"
      },
      "execution_count": null,
      "outputs": [
        {
          "output_type": "execute_result",
          "data": {
            "text/plain": [
              "duration                         int64\n",
              "protocol_type                   object\n",
              "service                         object\n",
              "flag                            object\n",
              "src_bytes                        int64\n",
              "dst_bytes                        int64\n",
              "land                             int64\n",
              "wrong_fragment                   int64\n",
              "urgent                           int64\n",
              "hot                              int64\n",
              "num_failed_logins                int64\n",
              "logged_in                        int64\n",
              "num_compromised                  int64\n",
              "root_shell                       int64\n",
              "su_attempted                     int64\n",
              "num_root                         int64\n",
              "num_file_creations               int64\n",
              "num_shells                       int64\n",
              "num_access_files                 int64\n",
              "num_outbound_cmds                int64\n",
              "is_host_login                    int64\n",
              "is_guest_login                   int64\n",
              "count                            int64\n",
              "srv_count                        int64\n",
              "serror_rate                    float64\n",
              "srv_serror_rate                float64\n",
              "rerror_rate                    float64\n",
              "srv_rerror_rate                float64\n",
              "same_srv_rate                  float64\n",
              "diff_srv_rate                  float64\n",
              "srv_diff_host_rate             float64\n",
              "dst_host_count                   int64\n",
              "dst_host_srv_count               int64\n",
              "dst_host_same_srv_rate         float64\n",
              "dst_host_diff_srv_rate         float64\n",
              "dst_host_same_src_port_rate    float64\n",
              "dst_host_srv_diff_host_rate    float64\n",
              "dst_host_serror_rate           float64\n",
              "dst_host_srv_serror_rate       float64\n",
              "dst_host_rerror_rate           float64\n",
              "dst_host_srv_rerror_rate       float64\n",
              "class                           object\n",
              "dtype: object"
            ]
          },
          "metadata": {},
          "execution_count": 10
        }
      ]
    },
    {
      "cell_type": "code",
      "source": [
        "L = data.groupby('class').size()\n",
        "L = L.sort_values(ascending=False)\n",
        "L.plot(kind='bar')"
      ],
      "metadata": {
        "colab": {
          "base_uri": "https://localhost:8080/",
          "height": 366
        },
        "id": "JgRTO_kZgN8P",
        "outputId": "dacbcfa8-067d-4698-9a46-88d87b74cd39"
      },
      "execution_count": null,
      "outputs": [
        {
          "output_type": "execute_result",
          "data": {
            "text/plain": [
              "<matplotlib.axes._subplots.AxesSubplot at 0x7f87da98c100>"
            ]
          },
          "metadata": {},
          "execution_count": 11
        },
        {
          "output_type": "display_data",
          "data": {
            "text/plain": [
              "<Figure size 432x288 with 1 Axes>"
            ],
            "image/png": "[encoded data removed]"
          },
          "metadata": {
            "needs_background": "light"
          }
        }
      ]
    },
    {
      "cell_type": "code",
      "source": [
        "len(data.groupby('class').size())"
      ],
      "metadata": {
        "colab": {
          "base_uri": "https://localhost:8080/"
        },
        "id": "50bcWX9Bi_1r",
        "outputId": "9c762671-5fb2-41c3-f7f3-22781675a838"
      },
      "execution_count": null,
      "outputs": [
        {
          "output_type": "execute_result",
          "data": {
            "text/plain": [
              "40"
            ]
          },
          "metadata": {},
          "execution_count": 12
        }
      ]
    },
    {
      "cell_type": "markdown",
      "source": [
        "# Data preprocessing"
      ],
      "metadata": {
        "id": "0K-XqYqVVegk"
      }
    },
    {
      "cell_type": "markdown",
      "source": [
        "Changing values in columns that are not numbers"
      ],
      "metadata": {
        "id": "02VaipJce8bu"
      }
    },
    {
      "cell_type": "code",
      "source": [
        "changing = ['protocol_type','service','flag']\n",
        "for n in changing:\n",
        "  L = data[n].value_counts()\n",
        "  L = L.sort_values(ascending=False)\n",
        "  data[n] = training_data[n].replace(list(L.index), [i+1 for i in range(len(L))])"
      ],
      "metadata": {
        "id": "Ywr1K05wcsus"
      },
      "execution_count": null,
      "outputs": []
    },
    {
      "cell_type": "markdown",
      "source": [
        "Verification that the values have been successfully updated"
      ],
      "metadata": {
        "id": "CeAO_LmPe0hB"
      }
    },
    {
      "cell_type": "code",
      "source": [
        "data[data.columns[:5]]"
      ],
      "metadata": {
        "colab": {
          "base_uri": "https://localhost:8080/",
          "height": 423
        },
        "id": "4W_cI5v5ddT5",
        "outputId": "2ec3e390-d189-49fd-8722-e75f6aeb4c45"
      },
      "execution_count": null,
      "outputs": [
        {
          "output_type": "execute_result",
          "data": {
            "text/plain": [
              "       duration  protocol_type  service  flag  src_bytes\n",
              "0             0              1        5     1        491\n",
              "1             0              2        6     1        146\n",
              "2             0              1        2     2          0\n",
              "3             0              1        1     1        232\n",
              "4             0              1        1     1        199\n",
              "...         ...            ...      ...   ...        ...\n",
              "22539         0              1        1     1        794\n",
              "22540         0              1        1     1        317\n",
              "22541         0              1       49     3      54540\n",
              "22542         0              2        3     1         42\n",
              "22543         0              1        2     3          0\n",
              "\n",
              "[148517 rows x 5 columns]"
            ],
            "text/html": [
              "\n",
              "  <div id=\"df-7c73c62f-22b0-4535-a501-7d40d9504301\">\n",
              "    <div class=\"colab-df-container\">\n",
              "      <div>\n",
              "<style scoped>\n",
              "    .dataframe tbody tr th:only-of-type {\n",
              "        vertical-align: middle;\n",
              "    }\n",
              "\n",
              "    .dataframe tbody tr th {\n",
              "        vertical-align: top;\n",
              "    }\n",
              "\n",
              "    .dataframe thead th {\n",
              "        text-align: right;\n",
              "    }\n",
              "</style>\n",
              "<table border=\"1\" class=\"dataframe\">\n",
              "  <thead>\n",
              "    <tr style=\"text-align: right;\">\n",
              "      <th></th>\n",
              "      <th>duration</th>\n",
              "      <th>protocol_type</th>\n",
              "      <th>service</th>\n",
              "      <th>flag</th>\n",
              "      <th>src_bytes</th>\n",
              "    </tr>\n",
              "  </thead>\n",
              "  <tbody>\n",
              "    <tr>\n",
              "      <th>0</th>\n",
              "      <td>0</td>\n",
              "      <td>1</td>\n",
              "      <td>5</td>\n",
              "      <td>1</td>\n",
              "      <td>491</td>\n",
              "    </tr>\n",
              "    <tr>\n",
              "      <th>1</th>\n",
              "      <td>0</td>\n",
              "      <td>2</td>\n",
              "      <td>6</td>\n",
              "      <td>1</td>\n",
              "      <td>146</td>\n",
              "    </tr>\n",
              "    <tr>\n",
              "      <th>2</th>\n",
              "      <td>0</td>\n",
              "      <td>1</td>\n",
              "      <td>2</td>\n",
              "      <td>2</td>\n",
              "      <td>0</td>\n",
              "    </tr>\n",
              "    <tr>\n",
              "      <th>3</th>\n",
              "      <td>0</td>\n",
              "      <td>1</td>\n",
              "      <td>1</td>\n",
              "      <td>1</td>\n",
              "      <td>232</td>\n",
              "    </tr>\n",
              "    <tr>\n",
              "      <th>4</th>\n",
              "      <td>0</td>\n",
              "      <td>1</td>\n",
              "      <td>1</td>\n",
              "      <td>1</td>\n",
              "      <td>199</td>\n",
              "    </tr>\n",
              "    <tr>\n",
              "      <th>...</th>\n",
              "      <td>...</td>\n",
              "      <td>...</td>\n",
              "      <td>...</td>\n",
              "      <td>...</td>\n",
              "      <td>...</td>\n",
              "    </tr>\n",
              "    <tr>\n",
              "      <th>22539</th>\n",
              "      <td>0</td>\n",
              "      <td>1</td>\n",
              "      <td>1</td>\n",
              "      <td>1</td>\n",
              "      <td>794</td>\n",
              "    </tr>\n",
              "    <tr>\n",
              "      <th>22540</th>\n",
              "      <td>0</td>\n",
              "      <td>1</td>\n",
              "      <td>1</td>\n",
              "      <td>1</td>\n",
              "      <td>317</td>\n",
              "    </tr>\n",
              "    <tr>\n",
              "      <th>22541</th>\n",
              "      <td>0</td>\n",
              "      <td>1</td>\n",
              "      <td>49</td>\n",
              "      <td>3</td>\n",
              "      <td>54540</td>\n",
              "    </tr>\n",
              "    <tr>\n",
              "      <th>22542</th>\n",
              "      <td>0</td>\n",
              "      <td>2</td>\n",
              "      <td>3</td>\n",
              "      <td>1</td>\n",
              "      <td>42</td>\n",
              "    </tr>\n",
              "    <tr>\n",
              "      <th>22543</th>\n",
              "      <td>0</td>\n",
              "      <td>1</td>\n",
              "      <td>2</td>\n",
              "      <td>3</td>\n",
              "      <td>0</td>\n",
              "    </tr>\n",
              "  </tbody>\n",
              "</table>\n",
              "<p>148517 rows × 5 columns</p>\n",
              "</div>\n",
              "      <button class=\"colab-df-convert\" onclick=\"convertToInteractive('df-7c73c62f-22b0-4535-a501-7d40d9504301')\"\n",
              "              title=\"Convert this dataframe to an interactive table.\"\n",
              "              style=\"display:none;\">\n",
              "        \n",
              "  <svg xmlns=\"http://www.w3.org/2000/svg\" height=\"24px\"viewBox=\"0 0 24 24\"\n",
              "       width=\"24px\">\n",
              "    <path d=\"M0 0h24v24H0V0z\" fill=\"none\"/>\n",
              "    <path d=\"M18.56 5.44l.94 2.06.94-2.06 2.06-.94-2.06-.94-.94-2.06-.94 2.06-2.06.94zm-11 1L8.5 8.5l.94-2.06 2.06-.94-2.06-.94L8.5 2.5l-.94 2.06-2.06.94zm10 10l.94 2.06.94-2.06 2.06-.94-2.06-.94-.94-2.06-.94 2.06-2.06.94z\"/><path d=\"M17.41 7.96l-1.37-1.37c-.4-.4-.92-.59-1.43-.59-.52 0-1.04.2-1.43.59L10.3 9.45l-7.72 7.72c-.78.78-.78 2.05 0 2.83L4 21.41c.39.39.9.59 1.41.59.51 0 1.02-.2 1.41-.59l7.78-7.78 2.81-2.81c.8-.78.8-2.07 0-2.86zM5.41 20L4 18.59l7.72-7.72 1.47 1.35L5.41 20z\"/>\n",
              "  </svg>\n",
              "      </button>\n",
              "      \n",
              "  <style>\n",
              "    .colab-df-container {\n",
              "      display:flex;\n",
              "      flex-wrap:wrap;\n",
              "      gap: 12px;\n",
              "    }\n",
              "\n",
              "    .colab-df-convert {\n",
              "      background-color: #E8F0FE;\n",
              "      border: none;\n",
              "      border-radius: 50%;\n",
              "      cursor: pointer;\n",
              "      display: none;\n",
              "      fill: #1967D2;\n",
              "      height: 32px;\n",
              "      padding: 0 0 0 0;\n",
              "      width: 32px;\n",
              "    }\n",
              "\n",
              "    .colab-df-convert:hover {\n",
              "      background-color: #E2EBFA;\n",
              "      box-shadow: 0px 1px 2px rgba(60, 64, 67, 0.3), 0px 1px 3px 1px rgba(60, 64, 67, 0.15);\n",
              "      fill: #174EA6;\n",
              "    }\n",
              "\n",
              "    [theme=dark] .colab-df-convert {\n",
              "      background-color: #3B4455;\n",
              "      fill: #D2E3FC;\n",
              "    }\n",
              "\n",
              "    [theme=dark] .colab-df-convert:hover {\n",
              "      background-color: #434B5C;\n",
              "      box-shadow: 0px 1px 3px 1px rgba(0, 0, 0, 0.15);\n",
              "      filter: drop-shadow(0px 1px 2px rgba(0, 0, 0, 0.3));\n",
              "      fill: #FFFFFF;\n",
              "    }\n",
              "  </style>\n",
              "\n",
              "      <script>\n",
              "        const buttonEl =\n",
              "          document.querySelector('#df-7c73c62f-22b0-4535-a501-7d40d9504301 button.colab-df-convert');\n",
              "        buttonEl.style.display =\n",
              "          google.colab.kernel.accessAllowed ? 'block' : 'none';\n",
              "\n",
              "        async function convertToInteractive(key) {\n",
              "          const element = document.querySelector('#df-7c73c62f-22b0-4535-a501-7d40d9504301');\n",
              "          const dataTable =\n",
              "            await google.colab.kernel.invokeFunction('convertToInteractive',\n",
              "                                                     [key], {});\n",
              "          if (!dataTable) return;\n",
              "\n",
              "          const docLinkHtml = 'Like what you see? Visit the ' +\n",
              "            '<a target=\"_blank\" href=https://colab.research.google.com/notebooks/data_table.ipynb>data table notebook</a>'\n",
              "            + ' to learn more about interactive tables.';\n",
              "          element.innerHTML = '';\n",
              "          dataTable['output_type'] = 'display_data';\n",
              "          await google.colab.output.renderOutput(dataTable, element);\n",
              "          const docLink = document.createElement('div');\n",
              "          docLink.innerHTML = docLinkHtml;\n",
              "          element.appendChild(docLink);\n",
              "        }\n",
              "      </script>\n",
              "    </div>\n",
              "  </div>\n",
              "  "
            ]
          },
          "metadata": {},
          "execution_count": 14
        }
      ]
    },
    {
      "cell_type": "markdown",
      "source": [
        "Verification that the types of the selected columns have been successfully updated"
      ],
      "metadata": {
        "id": "kes6jpGC3Mqy"
      }
    },
    {
      "cell_type": "code",
      "source": [
        "data.dtypes"
      ],
      "metadata": {
        "colab": {
          "base_uri": "https://localhost:8080/"
        },
        "id": "UKkCUKgifE5V",
        "outputId": "405f426f-a41e-408f-9e58-f2ca394c2900"
      },
      "execution_count": null,
      "outputs": [
        {
          "output_type": "execute_result",
          "data": {
            "text/plain": [
              "duration                         int64\n",
              "protocol_type                    int64\n",
              "service                          int64\n",
              "flag                             int64\n",
              "src_bytes                        int64\n",
              "dst_bytes                        int64\n",
              "land                             int64\n",
              "wrong_fragment                   int64\n",
              "urgent                           int64\n",
              "hot                              int64\n",
              "num_failed_logins                int64\n",
              "logged_in                        int64\n",
              "num_compromised                  int64\n",
              "root_shell                       int64\n",
              "su_attempted                     int64\n",
              "num_root                         int64\n",
              "num_file_creations               int64\n",
              "num_shells                       int64\n",
              "num_access_files                 int64\n",
              "num_outbound_cmds                int64\n",
              "is_host_login                    int64\n",
              "is_guest_login                   int64\n",
              "count                            int64\n",
              "srv_count                        int64\n",
              "serror_rate                    float64\n",
              "srv_serror_rate                float64\n",
              "rerror_rate                    float64\n",
              "srv_rerror_rate                float64\n",
              "same_srv_rate                  float64\n",
              "diff_srv_rate                  float64\n",
              "srv_diff_host_rate             float64\n",
              "dst_host_count                   int64\n",
              "dst_host_srv_count               int64\n",
              "dst_host_same_srv_rate         float64\n",
              "dst_host_diff_srv_rate         float64\n",
              "dst_host_same_src_port_rate    float64\n",
              "dst_host_srv_diff_host_rate    float64\n",
              "dst_host_serror_rate           float64\n",
              "dst_host_srv_serror_rate       float64\n",
              "dst_host_rerror_rate           float64\n",
              "dst_host_srv_rerror_rate       float64\n",
              "class                           object\n",
              "dtype: object"
            ]
          },
          "metadata": {},
          "execution_count": 15
        }
      ]
    },
    {
      "cell_type": "markdown",
      "source": [
        "Grouping all the classes in the 'normal' and 'anomaly' classes"
      ],
      "metadata": {
        "id": "6BIeRB6M3Sqg"
      }
    },
    {
      "cell_type": "code",
      "source": [
        "classes = list(data.groupby('class').size().index)\n",
        "new_classes = classes.copy()\n",
        "for i in range(len(new_classes)):\n",
        "  if new_classes[i] != 'normal':\n",
        "    new_classes[i] = 'anomaly'\n",
        "\n",
        "data['class'] = data['class'].replace(classes, new_classes)"
      ],
      "metadata": {
        "id": "bowwRi3BJMOG"
      },
      "execution_count": null,
      "outputs": []
    },
    {
      "cell_type": "markdown",
      "source": [
        "Scaling the data"
      ],
      "metadata": {
        "id": "jXLkmdf_3DS0"
      }
    },
    {
      "cell_type": "code",
      "source": [
        "data = np.array(data.values)\n",
        "data"
      ],
      "metadata": {
        "colab": {
          "base_uri": "https://localhost:8080/"
        },
        "id": "Z82p-TXWbO36",
        "outputId": "b5feca3c-17b3-4bfc-f80b-be69d4e41ea9"
      },
      "execution_count": null,
      "outputs": [
        {
          "output_type": "execute_result",
          "data": {
            "text/plain": [
              "array([[0, 1, 5, ..., 0.05, 0.0, 'normal'],\n",
              "       [0, 2, 6, ..., 0.0, 0.0, 'normal'],\n",
              "       [0, 1, 2, ..., 0.0, 0.0, 'anomaly'],\n",
              "       ...,\n",
              "       [0, 1, 49, ..., 0.07, 0.07, 'anomaly'],\n",
              "       [0, 2, 3, ..., 0.0, 0.0, 'normal'],\n",
              "       [0, 1, 2, ..., 0.44, 1.0, 'anomaly']], dtype=object)"
            ]
          },
          "metadata": {},
          "execution_count": 17
        }
      ]
    },
    {
      "cell_type": "markdown",
      "source": [
        "Preparing for using a classification via SOM"
      ],
      "metadata": {
        "id": "7O1x-y2-Impm"
      }
    },
    {
      "cell_type": "code",
      "source": [
        "scaler = MinMaxScaler()\n",
        "Data = data[:,:-1].astype(float)\n",
        "Data = scaler.fit_transform(Data)\n",
        "Labels = data[:,-1].astype(str)"
      ],
      "metadata": {
        "id": "uzhGL5Gyp7ZZ"
      },
      "execution_count": null,
      "outputs": []
    },
    {
      "cell_type": "markdown",
      "source": [
        "# Model implementation\n",
        "\n",
        "The SOM algorithm is used from the minisom library.  \n",
        "More informations : https://github.com/JustGlowing/minisom"
      ],
      "metadata": {
        "id": "1VQ3ZRspBzXW"
      }
    },
    {
      "cell_type": "markdown",
      "source": [
        "Defining the classify function"
      ],
      "metadata": {
        "id": "tt-e71bse8nB"
      }
    },
    {
      "cell_type": "code",
      "source": [
        "def classify(som, data):\n",
        "    \"\"\"Classifies each sample in data in one of the classes definited\n",
        "    using the method labels_map.\n",
        "    Returns a list of the same length of data where the i-th element\n",
        "    is the class assigned to data[i].\n",
        "    \"\"\"\n",
        "    winmap = som.labels_map(X_train, y_train)\n",
        "    default_class = np.sum(list(winmap.values())).most_common()[0][0]\n",
        "    result = []\n",
        "    for d in data:\n",
        "        win_position = som.winner(d)\n",
        "        if win_position in winmap:\n",
        "            result.append(winmap[win_position].most_common()[0][0])\n",
        "        else:\n",
        "            result.append(default_class)\n",
        "    return result"
      ],
      "metadata": {
        "id": "FsIzjK1apGB-"
      },
      "execution_count": null,
      "outputs": []
    },
    {
      "cell_type": "markdown",
      "source": [
        "First implementation"
      ],
      "metadata": {
        "id": "6CNwOdH4fUI0"
      }
    },
    {
      "cell_type": "code",
      "source": [
        "X_train, X_test, y_train, y_test = train_test_split(Data, Labels, stratify=Labels, test_size=0.1)\n",
        "som = MiniSom(10, 10, 41, sigma=3, learning_rate=0.5, \n",
        "              neighborhood_function='triangle', random_seed=10)\n",
        "som.pca_weights_init(X_train)\n",
        "som.train(X_train, 500, verbose=False, random_order=True)\n",
        "\n",
        "print(classification_report(y_test,classify(som, X_test)))"
      ],
      "metadata": {
        "colab": {
          "base_uri": "https://localhost:8080/"
        },
        "id": "bzCSYmFwpXq0",
        "outputId": "86d0129b-d770-4ac6-f74e-b8b391bdf090"
      },
      "execution_count": null,
      "outputs": [
        {
          "output_type": "stream",
          "name": "stdout",
          "text": [
            "              precision    recall  f1-score   support\n",
            "\n",
            "     anomaly       0.95      0.91      0.93      7146\n",
            "      normal       0.92      0.96      0.94      7706\n",
            "\n",
            "    accuracy                           0.93     14852\n",
            "   macro avg       0.94      0.93      0.93     14852\n",
            "weighted avg       0.93      0.93      0.93     14852\n",
            "\n"
          ]
        }
      ]
    },
    {
      "cell_type": "markdown",
      "source": [
        "# Optimization\n",
        "\n",
        "Definition of the hyperparameters"
      ],
      "metadata": {
        "id": "QlV39RhLfWrs"
      }
    },
    {
      "cell_type": "code",
      "source": [
        "dimension = [5, 10, 20, 50, 100, 150]\n",
        "neighbor = ['gaussian', 'mexican_hat', 'bubble', 'triangle']\n",
        "sigma = [0.1, 0.5, 1, 2, 3, 5]\n",
        "learning = [0.1, 0.5, 1, 2, 3, 5]"
      ],
      "metadata": {
        "id": "odRQDR2xf2ML"
      },
      "execution_count": null,
      "outputs": []
    },
    {
      "cell_type": "markdown",
      "source": [
        "Using a grid search on all the hyperparameters to "
      ],
      "metadata": {
        "id": "s6BXwGH6EMwt"
      }
    },
    {
      "cell_type": "code",
      "source": [
        "max_acc = 0\n",
        "acc_param = []\n",
        "for dim in dimension:\n",
        "  for neigh in neighbor:\n",
        "    for sig in sigma:\n",
        "      for lear in learning:\n",
        "        som = MiniSom(dim, dim, 41, sigma=sig, learning_rate=lear, neighborhood_function=neigh)\n",
        "        acc_param = 2*[i]\n",
        "        som.pca_weights_init(X_train)\n",
        "        som.train(X_train, 500, verbose=False, random_order=True)\n",
        "        acc = accuracy_score(y_test,classify(som, X_test))\n",
        "        if acc > max_acc:\n",
        "          max_acc = acc\n",
        "          acc_param = [dim, neigh, sig, lear]\n",
        "        \n",
        "        \n",
        "print(f\"Maximum accuracy is {max_acc} for : \\n Dimension = {acc_param[0]} \\n Sigma = {acc_param[2]} \\n Learning = {acc_param[3]} \\n Neighbor = {acc_param[1]}\")"
      ],
      "metadata": {
        "colab": {
          "base_uri": "https://localhost:8080/",
          "height": 1000
        },
        "id": "XQ7a5vJ5EZ5U",
        "outputId": "2dca50fb-85ac-44c3-bb2d-902dbebb0c6e"
      },
      "execution_count": null,
      "outputs": [
        {
          "output_type": "stream",
          "name": "stderr",
          "text": [
            "/usr/local/lib/python3.8/dist-packages/minisom.py:160: UserWarning: Warning: sigma is too high for the dimension of the map.\n",
            "  warn('Warning: sigma is too high for the dimension of the map.')\n",
            "/usr/local/lib/python3.8/dist-packages/minisom.py:160: UserWarning: Warning: sigma is too high for the dimension of the map.\n",
            "  warn('Warning: sigma is too high for the dimension of the map.')\n",
            "/usr/local/lib/python3.8/dist-packages/minisom.py:160: UserWarning: Warning: sigma is too high for the dimension of the map.\n",
            "  warn('Warning: sigma is too high for the dimension of the map.')\n",
            "/usr/local/lib/python3.8/dist-packages/minisom.py:160: UserWarning: Warning: sigma is too high for the dimension of the map.\n",
            "  warn('Warning: sigma is too high for the dimension of the map.')\n",
            "/usr/local/lib/python3.8/dist-packages/minisom.py:160: UserWarning: Warning: sigma is too high for the dimension of the map.\n",
            "  warn('Warning: sigma is too high for the dimension of the map.')\n",
            "/usr/local/lib/python3.8/dist-packages/minisom.py:160: UserWarning: Warning: sigma is too high for the dimension of the map.\n",
            "  warn('Warning: sigma is too high for the dimension of the map.')\n",
            "/usr/local/lib/python3.8/dist-packages/minisom.py:160: UserWarning: Warning: sigma is too high for the dimension of the map.\n",
            "  warn('Warning: sigma is too high for the dimension of the map.')\n",
            "/usr/local/lib/python3.8/dist-packages/minisom.py:160: UserWarning: Warning: sigma is too high for the dimension of the map.\n",
            "  warn('Warning: sigma is too high for the dimension of the map.')\n",
            "/usr/local/lib/python3.8/dist-packages/minisom.py:160: UserWarning: Warning: sigma is too high for the dimension of the map.\n",
            "  warn('Warning: sigma is too high for the dimension of the map.')\n",
            "/usr/local/lib/python3.8/dist-packages/minisom.py:160: UserWarning: Warning: sigma is too high for the dimension of the map.\n",
            "  warn('Warning: sigma is too high for the dimension of the map.')\n",
            "/usr/local/lib/python3.8/dist-packages/minisom.py:160: UserWarning: Warning: sigma is too high for the dimension of the map.\n",
            "  warn('Warning: sigma is too high for the dimension of the map.')\n",
            "/usr/local/lib/python3.8/dist-packages/minisom.py:160: UserWarning: Warning: sigma is too high for the dimension of the map.\n",
            "  warn('Warning: sigma is too high for the dimension of the map.')\n",
            "/usr/local/lib/python3.8/dist-packages/minisom.py:203: UserWarning: sigma should be an integer >=1 when triangle or bubbleare used as neighborhood function\n",
            "  warn('sigma should be an integer >=1 when triangle or bubble' +\n",
            "/usr/local/lib/python3.8/dist-packages/minisom.py:203: UserWarning: sigma should be an integer >=1 when triangle or bubbleare used as neighborhood function\n",
            "  warn('sigma should be an integer >=1 when triangle or bubble' +\n",
            "/usr/local/lib/python3.8/dist-packages/minisom.py:203: UserWarning: sigma should be an integer >=1 when triangle or bubbleare used as neighborhood function\n",
            "  warn('sigma should be an integer >=1 when triangle or bubble' +\n",
            "/usr/local/lib/python3.8/dist-packages/minisom.py:203: UserWarning: sigma should be an integer >=1 when triangle or bubbleare used as neighborhood function\n",
            "  warn('sigma should be an integer >=1 when triangle or bubble' +\n",
            "/usr/local/lib/python3.8/dist-packages/minisom.py:203: UserWarning: sigma should be an integer >=1 when triangle or bubbleare used as neighborhood function\n",
            "  warn('sigma should be an integer >=1 when triangle or bubble' +\n",
            "/usr/local/lib/python3.8/dist-packages/minisom.py:203: UserWarning: sigma should be an integer >=1 when triangle or bubbleare used as neighborhood function\n",
            "  warn('sigma should be an integer >=1 when triangle or bubble' +\n",
            "/usr/local/lib/python3.8/dist-packages/minisom.py:203: UserWarning: sigma should be an integer >=1 when triangle or bubbleare used as neighborhood function\n",
            "  warn('sigma should be an integer >=1 when triangle or bubble' +\n",
            "/usr/local/lib/python3.8/dist-packages/minisom.py:203: UserWarning: sigma should be an integer >=1 when triangle or bubbleare used as neighborhood function\n",
            "  warn('sigma should be an integer >=1 when triangle or bubble' +\n",
            "/usr/local/lib/python3.8/dist-packages/minisom.py:203: UserWarning: sigma should be an integer >=1 when triangle or bubbleare used as neighborhood function\n",
            "  warn('sigma should be an integer >=1 when triangle or bubble' +\n",
            "/usr/local/lib/python3.8/dist-packages/minisom.py:203: UserWarning: sigma should be an integer >=1 when triangle or bubbleare used as neighborhood function\n",
            "  warn('sigma should be an integer >=1 when triangle or bubble' +\n",
            "/usr/local/lib/python3.8/dist-packages/minisom.py:203: UserWarning: sigma should be an integer >=1 when triangle or bubbleare used as neighborhood function\n",
            "  warn('sigma should be an integer >=1 when triangle or bubble' +\n",
            "/usr/local/lib/python3.8/dist-packages/minisom.py:203: UserWarning: sigma should be an integer >=1 when triangle or bubbleare used as neighborhood function\n",
            "  warn('sigma should be an integer >=1 when triangle or bubble' +\n",
            "/usr/local/lib/python3.8/dist-packages/minisom.py:160: UserWarning: Warning: sigma is too high for the dimension of the map.\n",
            "  warn('Warning: sigma is too high for the dimension of the map.')\n",
            "/usr/local/lib/python3.8/dist-packages/minisom.py:160: UserWarning: Warning: sigma is too high for the dimension of the map.\n",
            "  warn('Warning: sigma is too high for the dimension of the map.')\n",
            "/usr/local/lib/python3.8/dist-packages/minisom.py:160: UserWarning: Warning: sigma is too high for the dimension of the map.\n",
            "  warn('Warning: sigma is too high for the dimension of the map.')\n",
            "/usr/local/lib/python3.8/dist-packages/minisom.py:160: UserWarning: Warning: sigma is too high for the dimension of the map.\n",
            "  warn('Warning: sigma is too high for the dimension of the map.')\n",
            "/usr/local/lib/python3.8/dist-packages/minisom.py:160: UserWarning: Warning: sigma is too high for the dimension of the map.\n",
            "  warn('Warning: sigma is too high for the dimension of the map.')\n",
            "/usr/local/lib/python3.8/dist-packages/minisom.py:160: UserWarning: Warning: sigma is too high for the dimension of the map.\n",
            "  warn('Warning: sigma is too high for the dimension of the map.')\n",
            "/usr/local/lib/python3.8/dist-packages/minisom.py:203: UserWarning: sigma should be an integer >=1 when triangle or bubbleare used as neighborhood function\n",
            "  warn('sigma should be an integer >=1 when triangle or bubble' +\n",
            "/usr/local/lib/python3.8/dist-packages/minisom.py:203: UserWarning: sigma should be an integer >=1 when triangle or bubbleare used as neighborhood function\n",
            "  warn('sigma should be an integer >=1 when triangle or bubble' +\n",
            "/usr/local/lib/python3.8/dist-packages/minisom.py:203: UserWarning: sigma should be an integer >=1 when triangle or bubbleare used as neighborhood function\n",
            "  warn('sigma should be an integer >=1 when triangle or bubble' +\n",
            "/usr/local/lib/python3.8/dist-packages/minisom.py:203: UserWarning: sigma should be an integer >=1 when triangle or bubbleare used as neighborhood function\n",
            "  warn('sigma should be an integer >=1 when triangle or bubble' +\n",
            "/usr/local/lib/python3.8/dist-packages/minisom.py:203: UserWarning: sigma should be an integer >=1 when triangle or bubbleare used as neighborhood function\n",
            "  warn('sigma should be an integer >=1 when triangle or bubble' +\n",
            "/usr/local/lib/python3.8/dist-packages/minisom.py:203: UserWarning: sigma should be an integer >=1 when triangle or bubbleare used as neighborhood function\n",
            "  warn('sigma should be an integer >=1 when triangle or bubble' +\n",
            "/usr/local/lib/python3.8/dist-packages/minisom.py:203: UserWarning: sigma should be an integer >=1 when triangle or bubbleare used as neighborhood function\n",
            "  warn('sigma should be an integer >=1 when triangle or bubble' +\n",
            "/usr/local/lib/python3.8/dist-packages/minisom.py:203: UserWarning: sigma should be an integer >=1 when triangle or bubbleare used as neighborhood function\n",
            "  warn('sigma should be an integer >=1 when triangle or bubble' +\n",
            "/usr/local/lib/python3.8/dist-packages/minisom.py:203: UserWarning: sigma should be an integer >=1 when triangle or bubbleare used as neighborhood function\n",
            "  warn('sigma should be an integer >=1 when triangle or bubble' +\n",
            "/usr/local/lib/python3.8/dist-packages/minisom.py:203: UserWarning: sigma should be an integer >=1 when triangle or bubbleare used as neighborhood function\n",
            "  warn('sigma should be an integer >=1 when triangle or bubble' +\n",
            "/usr/local/lib/python3.8/dist-packages/minisom.py:203: UserWarning: sigma should be an integer >=1 when triangle or bubbleare used as neighborhood function\n",
            "  warn('sigma should be an integer >=1 when triangle or bubble' +\n",
            "/usr/local/lib/python3.8/dist-packages/minisom.py:203: UserWarning: sigma should be an integer >=1 when triangle or bubbleare used as neighborhood function\n",
            "  warn('sigma should be an integer >=1 when triangle or bubble' +\n",
            "/usr/local/lib/python3.8/dist-packages/minisom.py:160: UserWarning: Warning: sigma is too high for the dimension of the map.\n",
            "  warn('Warning: sigma is too high for the dimension of the map.')\n",
            "/usr/local/lib/python3.8/dist-packages/minisom.py:160: UserWarning: Warning: sigma is too high for the dimension of the map.\n",
            "  warn('Warning: sigma is too high for the dimension of the map.')\n",
            "/usr/local/lib/python3.8/dist-packages/minisom.py:160: UserWarning: Warning: sigma is too high for the dimension of the map.\n",
            "  warn('Warning: sigma is too high for the dimension of the map.')\n",
            "/usr/local/lib/python3.8/dist-packages/minisom.py:160: UserWarning: Warning: sigma is too high for the dimension of the map.\n",
            "  warn('Warning: sigma is too high for the dimension of the map.')\n",
            "/usr/local/lib/python3.8/dist-packages/minisom.py:160: UserWarning: Warning: sigma is too high for the dimension of the map.\n",
            "  warn('Warning: sigma is too high for the dimension of the map.')\n",
            "/usr/local/lib/python3.8/dist-packages/minisom.py:160: UserWarning: Warning: sigma is too high for the dimension of the map.\n",
            "  warn('Warning: sigma is too high for the dimension of the map.')\n",
            "/usr/local/lib/python3.8/dist-packages/numpy/linalg/linalg.py:2560: RuntimeWarning: overflow encountered in multiply\n",
            "  s = (x.conj() * x).real\n",
            "/usr/local/lib/python3.8/dist-packages/numpy/linalg/linalg.py:2561: RuntimeWarning: overflow encountered in reduce\n",
            "  return sqrt(add.reduce(s, axis=axis, keepdims=keepdims))\n",
            "/usr/local/lib/python3.8/dist-packages/minisom.py:203: UserWarning: sigma should be an integer >=1 when triangle or bubbleare used as neighborhood function\n",
            "  warn('sigma should be an integer >=1 when triangle or bubble' +\n",
            "/usr/local/lib/python3.8/dist-packages/minisom.py:203: UserWarning: sigma should be an integer >=1 when triangle or bubbleare used as neighborhood function\n",
            "  warn('sigma should be an integer >=1 when triangle or bubble' +\n",
            "/usr/local/lib/python3.8/dist-packages/minisom.py:203: UserWarning: sigma should be an integer >=1 when triangle or bubbleare used as neighborhood function\n",
            "  warn('sigma should be an integer >=1 when triangle or bubble' +\n",
            "/usr/local/lib/python3.8/dist-packages/minisom.py:203: UserWarning: sigma should be an integer >=1 when triangle or bubbleare used as neighborhood function\n",
            "  warn('sigma should be an integer >=1 when triangle or bubble' +\n",
            "/usr/local/lib/python3.8/dist-packages/minisom.py:203: UserWarning: sigma should be an integer >=1 when triangle or bubbleare used as neighborhood function\n",
            "  warn('sigma should be an integer >=1 when triangle or bubble' +\n",
            "/usr/local/lib/python3.8/dist-packages/minisom.py:203: UserWarning: sigma should be an integer >=1 when triangle or bubbleare used as neighborhood function\n",
            "  warn('sigma should be an integer >=1 when triangle or bubble' +\n",
            "/usr/local/lib/python3.8/dist-packages/minisom.py:203: UserWarning: sigma should be an integer >=1 when triangle or bubbleare used as neighborhood function\n",
            "  warn('sigma should be an integer >=1 when triangle or bubble' +\n",
            "/usr/local/lib/python3.8/dist-packages/minisom.py:203: UserWarning: sigma should be an integer >=1 when triangle or bubbleare used as neighborhood function\n",
            "  warn('sigma should be an integer >=1 when triangle or bubble' +\n",
            "/usr/local/lib/python3.8/dist-packages/minisom.py:203: UserWarning: sigma should be an integer >=1 when triangle or bubbleare used as neighborhood function\n",
            "  warn('sigma should be an integer >=1 when triangle or bubble' +\n",
            "/usr/local/lib/python3.8/dist-packages/minisom.py:203: UserWarning: sigma should be an integer >=1 when triangle or bubbleare used as neighborhood function\n",
            "  warn('sigma should be an integer >=1 when triangle or bubble' +\n",
            "/usr/local/lib/python3.8/dist-packages/minisom.py:203: UserWarning: sigma should be an integer >=1 when triangle or bubbleare used as neighborhood function\n",
            "  warn('sigma should be an integer >=1 when triangle or bubble' +\n",
            "/usr/local/lib/python3.8/dist-packages/minisom.py:203: UserWarning: sigma should be an integer >=1 when triangle or bubbleare used as neighborhood function\n",
            "  warn('sigma should be an integer >=1 when triangle or bubble' +\n",
            "/usr/local/lib/python3.8/dist-packages/minisom.py:203: UserWarning: sigma should be an integer >=1 when triangle or bubbleare used as neighborhood function\n",
            "  warn('sigma should be an integer >=1 when triangle or bubble' +\n",
            "/usr/local/lib/python3.8/dist-packages/minisom.py:203: UserWarning: sigma should be an integer >=1 when triangle or bubbleare used as neighborhood function\n",
            "  warn('sigma should be an integer >=1 when triangle or bubble' +\n",
            "/usr/local/lib/python3.8/dist-packages/minisom.py:203: UserWarning: sigma should be an integer >=1 when triangle or bubbleare used as neighborhood function\n",
            "  warn('sigma should be an integer >=1 when triangle or bubble' +\n",
            "/usr/local/lib/python3.8/dist-packages/minisom.py:203: UserWarning: sigma should be an integer >=1 when triangle or bubbleare used as neighborhood function\n",
            "  warn('sigma should be an integer >=1 when triangle or bubble' +\n",
            "/usr/local/lib/python3.8/dist-packages/minisom.py:203: UserWarning: sigma should be an integer >=1 when triangle or bubbleare used as neighborhood function\n",
            "  warn('sigma should be an integer >=1 when triangle or bubble' +\n",
            "/usr/local/lib/python3.8/dist-packages/minisom.py:203: UserWarning: sigma should be an integer >=1 when triangle or bubbleare used as neighborhood function\n",
            "  warn('sigma should be an integer >=1 when triangle or bubble' +\n",
            "/usr/local/lib/python3.8/dist-packages/minisom.py:203: UserWarning: sigma should be an integer >=1 when triangle or bubbleare used as neighborhood function\n",
            "  warn('sigma should be an integer >=1 when triangle or bubble' +\n",
            "/usr/local/lib/python3.8/dist-packages/minisom.py:203: UserWarning: sigma should be an integer >=1 when triangle or bubbleare used as neighborhood function\n",
            "  warn('sigma should be an integer >=1 when triangle or bubble' +\n",
            "/usr/local/lib/python3.8/dist-packages/minisom.py:203: UserWarning: sigma should be an integer >=1 when triangle or bubbleare used as neighborhood function\n",
            "  warn('sigma should be an integer >=1 when triangle or bubble' +\n",
            "/usr/local/lib/python3.8/dist-packages/minisom.py:203: UserWarning: sigma should be an integer >=1 when triangle or bubbleare used as neighborhood function\n",
            "  warn('sigma should be an integer >=1 when triangle or bubble' +\n",
            "/usr/local/lib/python3.8/dist-packages/minisom.py:203: UserWarning: sigma should be an integer >=1 when triangle or bubbleare used as neighborhood function\n",
            "  warn('sigma should be an integer >=1 when triangle or bubble' +\n",
            "/usr/local/lib/python3.8/dist-packages/minisom.py:203: UserWarning: sigma should be an integer >=1 when triangle or bubbleare used as neighborhood function\n",
            "  warn('sigma should be an integer >=1 when triangle or bubble' +\n",
            "/usr/local/lib/python3.8/dist-packages/minisom.py:203: UserWarning: sigma should be an integer >=1 when triangle or bubbleare used as neighborhood function\n",
            "  warn('sigma should be an integer >=1 when triangle or bubble' +\n",
            "/usr/local/lib/python3.8/dist-packages/minisom.py:203: UserWarning: sigma should be an integer >=1 when triangle or bubbleare used as neighborhood function\n",
            "  warn('sigma should be an integer >=1 when triangle or bubble' +\n",
            "/usr/local/lib/python3.8/dist-packages/minisom.py:203: UserWarning: sigma should be an integer >=1 when triangle or bubbleare used as neighborhood function\n",
            "  warn('sigma should be an integer >=1 when triangle or bubble' +\n",
            "/usr/local/lib/python3.8/dist-packages/minisom.py:203: UserWarning: sigma should be an integer >=1 when triangle or bubbleare used as neighborhood function\n",
            "  warn('sigma should be an integer >=1 when triangle or bubble' +\n",
            "/usr/local/lib/python3.8/dist-packages/minisom.py:203: UserWarning: sigma should be an integer >=1 when triangle or bubbleare used as neighborhood function\n",
            "  warn('sigma should be an integer >=1 when triangle or bubble' +\n",
            "/usr/local/lib/python3.8/dist-packages/minisom.py:203: UserWarning: sigma should be an integer >=1 when triangle or bubbleare used as neighborhood function\n",
            "  warn('sigma should be an integer >=1 when triangle or bubble' +\n",
            "/usr/local/lib/python3.8/dist-packages/minisom.py:203: UserWarning: sigma should be an integer >=1 when triangle or bubbleare used as neighborhood function\n",
            "  warn('sigma should be an integer >=1 when triangle or bubble' +\n",
            "/usr/local/lib/python3.8/dist-packages/minisom.py:203: UserWarning: sigma should be an integer >=1 when triangle or bubbleare used as neighborhood function\n",
            "  warn('sigma should be an integer >=1 when triangle or bubble' +\n",
            "/usr/local/lib/python3.8/dist-packages/minisom.py:203: UserWarning: sigma should be an integer >=1 when triangle or bubbleare used as neighborhood function\n",
            "  warn('sigma should be an integer >=1 when triangle or bubble' +\n",
            "/usr/local/lib/python3.8/dist-packages/minisom.py:203: UserWarning: sigma should be an integer >=1 when triangle or bubbleare used as neighborhood function\n",
            "  warn('sigma should be an integer >=1 when triangle or bubble' +\n",
            "/usr/local/lib/python3.8/dist-packages/minisom.py:203: UserWarning: sigma should be an integer >=1 when triangle or bubbleare used as neighborhood function\n",
            "  warn('sigma should be an integer >=1 when triangle or bubble' +\n",
            "/usr/local/lib/python3.8/dist-packages/minisom.py:203: UserWarning: sigma should be an integer >=1 when triangle or bubbleare used as neighborhood function\n",
            "  warn('sigma should be an integer >=1 when triangle or bubble' +\n",
            "/usr/local/lib/python3.8/dist-packages/minisom.py:203: UserWarning: sigma should be an integer >=1 when triangle or bubbleare used as neighborhood function\n",
            "  warn('sigma should be an integer >=1 when triangle or bubble' +\n",
            "/usr/local/lib/python3.8/dist-packages/minisom.py:203: UserWarning: sigma should be an integer >=1 when triangle or bubbleare used as neighborhood function\n",
            "  warn('sigma should be an integer >=1 when triangle or bubble' +\n",
            "/usr/local/lib/python3.8/dist-packages/minisom.py:203: UserWarning: sigma should be an integer >=1 when triangle or bubbleare used as neighborhood function\n",
            "  warn('sigma should be an integer >=1 when triangle or bubble' +\n",
            "/usr/local/lib/python3.8/dist-packages/minisom.py:203: UserWarning: sigma should be an integer >=1 when triangle or bubbleare used as neighborhood function\n",
            "  warn('sigma should be an integer >=1 when triangle or bubble' +\n",
            "/usr/local/lib/python3.8/dist-packages/minisom.py:203: UserWarning: sigma should be an integer >=1 when triangle or bubbleare used as neighborhood function\n",
            "  warn('sigma should be an integer >=1 when triangle or bubble' +\n",
            "/usr/local/lib/python3.8/dist-packages/minisom.py:203: UserWarning: sigma should be an integer >=1 when triangle or bubbleare used as neighborhood function\n",
            "  warn('sigma should be an integer >=1 when triangle or bubble' +\n",
            "/usr/local/lib/python3.8/dist-packages/minisom.py:203: UserWarning: sigma should be an integer >=1 when triangle or bubbleare used as neighborhood function\n",
            "  warn('sigma should be an integer >=1 when triangle or bubble' +\n",
            "/usr/local/lib/python3.8/dist-packages/minisom.py:203: UserWarning: sigma should be an integer >=1 when triangle or bubbleare used as neighborhood function\n",
            "  warn('sigma should be an integer >=1 when triangle or bubble' +\n",
            "/usr/local/lib/python3.8/dist-packages/minisom.py:203: UserWarning: sigma should be an integer >=1 when triangle or bubbleare used as neighborhood function\n",
            "  warn('sigma should be an integer >=1 when triangle or bubble' +\n",
            "/usr/local/lib/python3.8/dist-packages/minisom.py:203: UserWarning: sigma should be an integer >=1 when triangle or bubbleare used as neighborhood function\n",
            "  warn('sigma should be an integer >=1 when triangle or bubble' +\n",
            "/usr/local/lib/python3.8/dist-packages/minisom.py:203: UserWarning: sigma should be an integer >=1 when triangle or bubbleare used as neighborhood function\n",
            "  warn('sigma should be an integer >=1 when triangle or bubble' +\n",
            "/usr/local/lib/python3.8/dist-packages/minisom.py:203: UserWarning: sigma should be an integer >=1 when triangle or bubbleare used as neighborhood function\n",
            "  warn('sigma should be an integer >=1 when triangle or bubble' +\n",
            "/usr/local/lib/python3.8/dist-packages/minisom.py:203: UserWarning: sigma should be an integer >=1 when triangle or bubbleare used as neighborhood function\n",
            "  warn('sigma should be an integer >=1 when triangle or bubble' +\n",
            "/usr/local/lib/python3.8/dist-packages/minisom.py:203: UserWarning: sigma should be an integer >=1 when triangle or bubbleare used as neighborhood function\n",
            "  warn('sigma should be an integer >=1 when triangle or bubble' +\n",
            "/usr/local/lib/python3.8/dist-packages/minisom.py:203: UserWarning: sigma should be an integer >=1 when triangle or bubbleare used as neighborhood function\n",
            "  warn('sigma should be an integer >=1 when triangle or bubble' +\n",
            "/usr/local/lib/python3.8/dist-packages/minisom.py:203: UserWarning: sigma should be an integer >=1 when triangle or bubbleare used as neighborhood function\n",
            "  warn('sigma should be an integer >=1 when triangle or bubble' +\n",
            "/usr/local/lib/python3.8/dist-packages/minisom.py:203: UserWarning: sigma should be an integer >=1 when triangle or bubbleare used as neighborhood function\n",
            "  warn('sigma should be an integer >=1 when triangle or bubble' +\n",
            "/usr/local/lib/python3.8/dist-packages/minisom.py:203: UserWarning: sigma should be an integer >=1 when triangle or bubbleare used as neighborhood function\n",
            "  warn('sigma should be an integer >=1 when triangle or bubble' +\n",
            "/usr/local/lib/python3.8/dist-packages/minisom.py:203: UserWarning: sigma should be an integer >=1 when triangle or bubbleare used as neighborhood function\n",
            "  warn('sigma should be an integer >=1 when triangle or bubble' +\n",
            "/usr/local/lib/python3.8/dist-packages/minisom.py:203: UserWarning: sigma should be an integer >=1 when triangle or bubbleare used as neighborhood function\n",
            "  warn('sigma should be an integer >=1 when triangle or bubble' +\n",
            "/usr/local/lib/python3.8/dist-packages/minisom.py:203: UserWarning: sigma should be an integer >=1 when triangle or bubbleare used as neighborhood function\n",
            "  warn('sigma should be an integer >=1 when triangle or bubble' +\n",
            "/usr/local/lib/python3.8/dist-packages/minisom.py:203: UserWarning: sigma should be an integer >=1 when triangle or bubbleare used as neighborhood function\n",
            "  warn('sigma should be an integer >=1 when triangle or bubble' +\n",
            "/usr/local/lib/python3.8/dist-packages/minisom.py:203: UserWarning: sigma should be an integer >=1 when triangle or bubbleare used as neighborhood function\n",
            "  warn('sigma should be an integer >=1 when triangle or bubble' +\n",
            "/usr/local/lib/python3.8/dist-packages/minisom.py:203: UserWarning: sigma should be an integer >=1 when triangle or bubbleare used as neighborhood function\n",
            "  warn('sigma should be an integer >=1 when triangle or bubble' +\n",
            "/usr/local/lib/python3.8/dist-packages/minisom.py:203: UserWarning: sigma should be an integer >=1 when triangle or bubbleare used as neighborhood function\n",
            "  warn('sigma should be an integer >=1 when triangle or bubble' +\n",
            "/usr/local/lib/python3.8/dist-packages/minisom.py:203: UserWarning: sigma should be an integer >=1 when triangle or bubbleare used as neighborhood function\n",
            "  warn('sigma should be an integer >=1 when triangle or bubble' +\n",
            "/usr/local/lib/python3.8/dist-packages/minisom.py:203: UserWarning: sigma should be an integer >=1 when triangle or bubbleare used as neighborhood function\n",
            "  warn('sigma should be an integer >=1 when triangle or bubble' +\n",
            "/usr/local/lib/python3.8/dist-packages/minisom.py:203: UserWarning: sigma should be an integer >=1 when triangle or bubbleare used as neighborhood function\n",
            "  warn('sigma should be an integer >=1 when triangle or bubble' +\n",
            "/usr/local/lib/python3.8/dist-packages/minisom.py:203: UserWarning: sigma should be an integer >=1 when triangle or bubbleare used as neighborhood function\n",
            "  warn('sigma should be an integer >=1 when triangle or bubble' +\n",
            "/usr/local/lib/python3.8/dist-packages/minisom.py:203: UserWarning: sigma should be an integer >=1 when triangle or bubbleare used as neighborhood function\n",
            "  warn('sigma should be an integer >=1 when triangle or bubble' +\n",
            "/usr/local/lib/python3.8/dist-packages/minisom.py:203: UserWarning: sigma should be an integer >=1 when triangle or bubbleare used as neighborhood function\n",
            "  warn('sigma should be an integer >=1 when triangle or bubble' +\n",
            "/usr/local/lib/python3.8/dist-packages/minisom.py:203: UserWarning: sigma should be an integer >=1 when triangle or bubbleare used as neighborhood function\n",
            "  warn('sigma should be an integer >=1 when triangle or bubble' +\n",
            "/usr/local/lib/python3.8/dist-packages/minisom.py:203: UserWarning: sigma should be an integer >=1 when triangle or bubbleare used as neighborhood function\n",
            "  warn('sigma should be an integer >=1 when triangle or bubble' +\n",
            "/usr/local/lib/python3.8/dist-packages/minisom.py:203: UserWarning: sigma should be an integer >=1 when triangle or bubbleare used as neighborhood function\n",
            "  warn('sigma should be an integer >=1 when triangle or bubble' +\n",
            "/usr/local/lib/python3.8/dist-packages/minisom.py:203: UserWarning: sigma should be an integer >=1 when triangle or bubbleare used as neighborhood function\n",
            "  warn('sigma should be an integer >=1 when triangle or bubble' +\n",
            "/usr/local/lib/python3.8/dist-packages/minisom.py:203: UserWarning: sigma should be an integer >=1 when triangle or bubbleare used as neighborhood function\n",
            "  warn('sigma should be an integer >=1 when triangle or bubble' +\n"
          ]
        },
        {
          "output_type": "error",
          "ename": "KeyboardInterrupt",
          "evalue": "ignored",
          "traceback": [
            "\u001b[0;31m---------------------------------------------------------------------------\u001b[0m",
            "\u001b[0;31mKeyboardInterrupt\u001b[0m                         Traceback (most recent call last)",
            "\u001b[0;32m<ipython-input-22-2ce57c4f3753>\u001b[0m in \u001b[0;36m<module>\u001b[0;34m\u001b[0m\n\u001b[1;32m      9\u001b[0m         \u001b[0msom\u001b[0m\u001b[0;34m.\u001b[0m\u001b[0mpca_weights_init\u001b[0m\u001b[0;34m(\u001b[0m\u001b[0mX_train\u001b[0m\u001b[0;34m)\u001b[0m\u001b[0;34m\u001b[0m\u001b[0;34m\u001b[0m\u001b[0m\n\u001b[1;32m     10\u001b[0m         \u001b[0msom\u001b[0m\u001b[0;34m.\u001b[0m\u001b[0mtrain\u001b[0m\u001b[0;34m(\u001b[0m\u001b[0mX_train\u001b[0m\u001b[0;34m,\u001b[0m \u001b[0;36m500\u001b[0m\u001b[0;34m,\u001b[0m \u001b[0mverbose\u001b[0m\u001b[0;34m=\u001b[0m\u001b[0;32mFalse\u001b[0m\u001b[0;34m,\u001b[0m \u001b[0mrandom_order\u001b[0m\u001b[0;34m=\u001b[0m\u001b[0;32mTrue\u001b[0m\u001b[0;34m)\u001b[0m\u001b[0;34m\u001b[0m\u001b[0;34m\u001b[0m\u001b[0m\n\u001b[0;32m---> 11\u001b[0;31m         \u001b[0macc\u001b[0m \u001b[0;34m=\u001b[0m \u001b[0maccuracy_score\u001b[0m\u001b[0;34m(\u001b[0m\u001b[0my_test\u001b[0m\u001b[0;34m,\u001b[0m\u001b[0mclassify\u001b[0m\u001b[0;34m(\u001b[0m\u001b[0msom\u001b[0m\u001b[0;34m,\u001b[0m \u001b[0mX_test\u001b[0m\u001b[0;34m)\u001b[0m\u001b[0;34m)\u001b[0m\u001b[0;34m\u001b[0m\u001b[0;34m\u001b[0m\u001b[0m\n\u001b[0m\u001b[1;32m     12\u001b[0m         \u001b[0;32mif\u001b[0m \u001b[0macc\u001b[0m \u001b[0;34m>\u001b[0m \u001b[0mmax_acc\u001b[0m\u001b[0;34m:\u001b[0m\u001b[0;34m\u001b[0m\u001b[0;34m\u001b[0m\u001b[0m\n\u001b[1;32m     13\u001b[0m           \u001b[0mmax_acc\u001b[0m \u001b[0;34m=\u001b[0m \u001b[0macc\u001b[0m\u001b[0;34m\u001b[0m\u001b[0;34m\u001b[0m\u001b[0m\n",
            "\u001b[0;32m<ipython-input-19-16fc09044253>\u001b[0m in \u001b[0;36mclassify\u001b[0;34m(som, data)\u001b[0m\n\u001b[1;32m      5\u001b[0m     \u001b[0;32mis\u001b[0m \u001b[0mthe\u001b[0m \u001b[0;32mclass\u001b[0m \u001b[0massigned\u001b[0m \u001b[0mto\u001b[0m \u001b[0mdata\u001b[0m\u001b[0;34m[\u001b[0m\u001b[0mi\u001b[0m\u001b[0;34m]\u001b[0m\u001b[0;34m.\u001b[0m\u001b[0;34m\u001b[0m\u001b[0;34m\u001b[0m\u001b[0m\n\u001b[1;32m      6\u001b[0m     \"\"\"\n\u001b[0;32m----> 7\u001b[0;31m     \u001b[0mwinmap\u001b[0m \u001b[0;34m=\u001b[0m \u001b[0msom\u001b[0m\u001b[0;34m.\u001b[0m\u001b[0mlabels_map\u001b[0m\u001b[0;34m(\u001b[0m\u001b[0mX_train\u001b[0m\u001b[0;34m,\u001b[0m \u001b[0my_train\u001b[0m\u001b[0;34m)\u001b[0m\u001b[0;34m\u001b[0m\u001b[0;34m\u001b[0m\u001b[0m\n\u001b[0m\u001b[1;32m      8\u001b[0m     \u001b[0mdefault_class\u001b[0m \u001b[0;34m=\u001b[0m \u001b[0mnp\u001b[0m\u001b[0;34m.\u001b[0m\u001b[0msum\u001b[0m\u001b[0;34m(\u001b[0m\u001b[0mlist\u001b[0m\u001b[0;34m(\u001b[0m\u001b[0mwinmap\u001b[0m\u001b[0;34m.\u001b[0m\u001b[0mvalues\u001b[0m\u001b[0;34m(\u001b[0m\u001b[0;34m)\u001b[0m\u001b[0;34m)\u001b[0m\u001b[0;34m)\u001b[0m\u001b[0;34m.\u001b[0m\u001b[0mmost_common\u001b[0m\u001b[0;34m(\u001b[0m\u001b[0;34m)\u001b[0m\u001b[0;34m[\u001b[0m\u001b[0;36m0\u001b[0m\u001b[0;34m]\u001b[0m\u001b[0;34m[\u001b[0m\u001b[0;36m0\u001b[0m\u001b[0;34m]\u001b[0m\u001b[0;34m\u001b[0m\u001b[0;34m\u001b[0m\u001b[0m\n\u001b[1;32m      9\u001b[0m     \u001b[0mresult\u001b[0m \u001b[0;34m=\u001b[0m \u001b[0;34m[\u001b[0m\u001b[0;34m]\u001b[0m\u001b[0;34m\u001b[0m\u001b[0;34m\u001b[0m\u001b[0m\n",
            "\u001b[0;32m/usr/local/lib/python3.8/dist-packages/minisom.py\u001b[0m in \u001b[0;36mlabels_map\u001b[0;34m(self, data, labels)\u001b[0m\n\u001b[1;32m    578\u001b[0m         \u001b[0mwinmap\u001b[0m \u001b[0;34m=\u001b[0m \u001b[0mdefaultdict\u001b[0m\u001b[0;34m(\u001b[0m\u001b[0mlist\u001b[0m\u001b[0;34m)\u001b[0m\u001b[0;34m\u001b[0m\u001b[0;34m\u001b[0m\u001b[0m\n\u001b[1;32m    579\u001b[0m         \u001b[0;32mfor\u001b[0m \u001b[0mx\u001b[0m\u001b[0;34m,\u001b[0m \u001b[0ml\u001b[0m \u001b[0;32min\u001b[0m \u001b[0mzip\u001b[0m\u001b[0;34m(\u001b[0m\u001b[0mdata\u001b[0m\u001b[0;34m,\u001b[0m \u001b[0mlabels\u001b[0m\u001b[0;34m)\u001b[0m\u001b[0;34m:\u001b[0m\u001b[0;34m\u001b[0m\u001b[0;34m\u001b[0m\u001b[0m\n\u001b[0;32m--> 580\u001b[0;31m             \u001b[0mwinmap\u001b[0m\u001b[0;34m[\u001b[0m\u001b[0mself\u001b[0m\u001b[0;34m.\u001b[0m\u001b[0mwinner\u001b[0m\u001b[0;34m(\u001b[0m\u001b[0mx\u001b[0m\u001b[0;34m)\u001b[0m\u001b[0;34m]\u001b[0m\u001b[0;34m.\u001b[0m\u001b[0mappend\u001b[0m\u001b[0;34m(\u001b[0m\u001b[0ml\u001b[0m\u001b[0;34m)\u001b[0m\u001b[0;34m\u001b[0m\u001b[0;34m\u001b[0m\u001b[0m\n\u001b[0m\u001b[1;32m    581\u001b[0m         \u001b[0;32mfor\u001b[0m \u001b[0mposition\u001b[0m \u001b[0;32min\u001b[0m \u001b[0mwinmap\u001b[0m\u001b[0;34m:\u001b[0m\u001b[0;34m\u001b[0m\u001b[0;34m\u001b[0m\u001b[0m\n\u001b[1;32m    582\u001b[0m             \u001b[0mwinmap\u001b[0m\u001b[0;34m[\u001b[0m\u001b[0mposition\u001b[0m\u001b[0;34m]\u001b[0m \u001b[0;34m=\u001b[0m \u001b[0mCounter\u001b[0m\u001b[0;34m(\u001b[0m\u001b[0mwinmap\u001b[0m\u001b[0;34m[\u001b[0m\u001b[0mposition\u001b[0m\u001b[0;34m]\u001b[0m\u001b[0;34m)\u001b[0m\u001b[0;34m\u001b[0m\u001b[0;34m\u001b[0m\u001b[0m\n",
            "\u001b[0;32m/usr/local/lib/python3.8/dist-packages/minisom.py\u001b[0m in \u001b[0;36mwinner\u001b[0;34m(self, x)\u001b[0m\n\u001b[1;32m    312\u001b[0m     \u001b[0;32mdef\u001b[0m \u001b[0mwinner\u001b[0m\u001b[0;34m(\u001b[0m\u001b[0mself\u001b[0m\u001b[0;34m,\u001b[0m \u001b[0mx\u001b[0m\u001b[0;34m)\u001b[0m\u001b[0;34m:\u001b[0m\u001b[0;34m\u001b[0m\u001b[0;34m\u001b[0m\u001b[0m\n\u001b[1;32m    313\u001b[0m         \u001b[0;34m\"\"\"Computes the coordinates of the winning neuron for the sample x.\"\"\"\u001b[0m\u001b[0;34m\u001b[0m\u001b[0;34m\u001b[0m\u001b[0m\n\u001b[0;32m--> 314\u001b[0;31m         \u001b[0mself\u001b[0m\u001b[0;34m.\u001b[0m\u001b[0m_activate\u001b[0m\u001b[0;34m(\u001b[0m\u001b[0mx\u001b[0m\u001b[0;34m)\u001b[0m\u001b[0;34m\u001b[0m\u001b[0;34m\u001b[0m\u001b[0m\n\u001b[0m\u001b[1;32m    315\u001b[0m         return unravel_index(self._activation_map.argmin(),\n\u001b[1;32m    316\u001b[0m                              self._activation_map.shape)\n",
            "\u001b[0;32m/usr/local/lib/python3.8/dist-packages/minisom.py\u001b[0m in \u001b[0;36m_activate\u001b[0;34m(self, x)\u001b[0m\n\u001b[1;32m    246\u001b[0m         \"\"\"Updates matrix activation_map, in this matrix\n\u001b[1;32m    247\u001b[0m            the element i,j is the response of the neuron i,j to x.\"\"\"\n\u001b[0;32m--> 248\u001b[0;31m         \u001b[0mself\u001b[0m\u001b[0;34m.\u001b[0m\u001b[0m_activation_map\u001b[0m \u001b[0;34m=\u001b[0m \u001b[0mself\u001b[0m\u001b[0;34m.\u001b[0m\u001b[0m_activation_distance\u001b[0m\u001b[0;34m(\u001b[0m\u001b[0mx\u001b[0m\u001b[0;34m,\u001b[0m \u001b[0mself\u001b[0m\u001b[0;34m.\u001b[0m\u001b[0m_weights\u001b[0m\u001b[0;34m)\u001b[0m\u001b[0;34m\u001b[0m\u001b[0;34m\u001b[0m\u001b[0m\n\u001b[0m\u001b[1;32m    249\u001b[0m \u001b[0;34m\u001b[0m\u001b[0m\n\u001b[1;32m    250\u001b[0m     \u001b[0;32mdef\u001b[0m \u001b[0mactivate\u001b[0m\u001b[0;34m(\u001b[0m\u001b[0mself\u001b[0m\u001b[0;34m,\u001b[0m \u001b[0mx\u001b[0m\u001b[0;34m)\u001b[0m\u001b[0;34m:\u001b[0m\u001b[0;34m\u001b[0m\u001b[0;34m\u001b[0m\u001b[0m\n",
            "\u001b[0;32m/usr/local/lib/python3.8/dist-packages/minisom.py\u001b[0m in \u001b[0;36m_euclidean_distance\u001b[0;34m(self, x, w)\u001b[0m\n\u001b[1;32m    290\u001b[0m \u001b[0;34m\u001b[0m\u001b[0m\n\u001b[1;32m    291\u001b[0m     \u001b[0;32mdef\u001b[0m \u001b[0m_euclidean_distance\u001b[0m\u001b[0;34m(\u001b[0m\u001b[0mself\u001b[0m\u001b[0;34m,\u001b[0m \u001b[0mx\u001b[0m\u001b[0;34m,\u001b[0m \u001b[0mw\u001b[0m\u001b[0;34m)\u001b[0m\u001b[0;34m:\u001b[0m\u001b[0;34m\u001b[0m\u001b[0;34m\u001b[0m\u001b[0m\n\u001b[0;32m--> 292\u001b[0;31m         \u001b[0;32mreturn\u001b[0m \u001b[0mlinalg\u001b[0m\u001b[0;34m.\u001b[0m\u001b[0mnorm\u001b[0m\u001b[0;34m(\u001b[0m\u001b[0msubtract\u001b[0m\u001b[0;34m(\u001b[0m\u001b[0mx\u001b[0m\u001b[0;34m,\u001b[0m \u001b[0mw\u001b[0m\u001b[0;34m)\u001b[0m\u001b[0;34m,\u001b[0m \u001b[0maxis\u001b[0m\u001b[0;34m=\u001b[0m\u001b[0;34m-\u001b[0m\u001b[0;36m1\u001b[0m\u001b[0;34m)\u001b[0m\u001b[0;34m\u001b[0m\u001b[0;34m\u001b[0m\u001b[0m\n\u001b[0m\u001b[1;32m    293\u001b[0m \u001b[0;34m\u001b[0m\u001b[0m\n\u001b[1;32m    294\u001b[0m     \u001b[0;32mdef\u001b[0m \u001b[0m_manhattan_distance\u001b[0m\u001b[0;34m(\u001b[0m\u001b[0mself\u001b[0m\u001b[0;34m,\u001b[0m \u001b[0mx\u001b[0m\u001b[0;34m,\u001b[0m \u001b[0mw\u001b[0m\u001b[0;34m)\u001b[0m\u001b[0;34m:\u001b[0m\u001b[0;34m\u001b[0m\u001b[0;34m\u001b[0m\u001b[0m\n",
            "\u001b[0;32m<__array_function__ internals>\u001b[0m in \u001b[0;36mnorm\u001b[0;34m(*args, **kwargs)\u001b[0m\n",
            "\u001b[0;32m/usr/local/lib/python3.8/dist-packages/numpy/linalg/linalg.py\u001b[0m in \u001b[0;36mnorm\u001b[0;34m(x, ord, axis, keepdims)\u001b[0m\n\u001b[1;32m   2559\u001b[0m             \u001b[0;31m# special case for speedup\u001b[0m\u001b[0;34m\u001b[0m\u001b[0;34m\u001b[0m\u001b[0;34m\u001b[0m\u001b[0m\n\u001b[1;32m   2560\u001b[0m             \u001b[0ms\u001b[0m \u001b[0;34m=\u001b[0m \u001b[0;34m(\u001b[0m\u001b[0mx\u001b[0m\u001b[0;34m.\u001b[0m\u001b[0mconj\u001b[0m\u001b[0;34m(\u001b[0m\u001b[0;34m)\u001b[0m \u001b[0;34m*\u001b[0m \u001b[0mx\u001b[0m\u001b[0;34m)\u001b[0m\u001b[0;34m.\u001b[0m\u001b[0mreal\u001b[0m\u001b[0;34m\u001b[0m\u001b[0;34m\u001b[0m\u001b[0m\n\u001b[0;32m-> 2561\u001b[0;31m             \u001b[0;32mreturn\u001b[0m \u001b[0msqrt\u001b[0m\u001b[0;34m(\u001b[0m\u001b[0madd\u001b[0m\u001b[0;34m.\u001b[0m\u001b[0mreduce\u001b[0m\u001b[0;34m(\u001b[0m\u001b[0ms\u001b[0m\u001b[0;34m,\u001b[0m \u001b[0maxis\u001b[0m\u001b[0;34m=\u001b[0m\u001b[0maxis\u001b[0m\u001b[0;34m,\u001b[0m \u001b[0mkeepdims\u001b[0m\u001b[0;34m=\u001b[0m\u001b[0mkeepdims\u001b[0m\u001b[0;34m)\u001b[0m\u001b[0;34m)\u001b[0m\u001b[0;34m\u001b[0m\u001b[0;34m\u001b[0m\u001b[0m\n\u001b[0m\u001b[1;32m   2562\u001b[0m         \u001b[0;31m# None of the str-type keywords for ord ('fro', 'nuc')\u001b[0m\u001b[0;34m\u001b[0m\u001b[0;34m\u001b[0m\u001b[0;34m\u001b[0m\u001b[0m\n\u001b[1;32m   2563\u001b[0m         \u001b[0;31m# are valid for vectors\u001b[0m\u001b[0;34m\u001b[0m\u001b[0;34m\u001b[0m\u001b[0;34m\u001b[0m\u001b[0m\n",
            "\u001b[0;31mKeyboardInterrupt\u001b[0m: "
          ]
        }
      ]
    }
  ]
}